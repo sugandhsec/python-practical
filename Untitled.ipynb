{
 "cells": [
  {
   "cell_type": "code",
   "execution_count": null,
   "id": "dd1bff5d",
   "metadata": {},
   "outputs": [],
   "source": [
    "list1=[]\n",
    "n=int(input(\"Enter Number: \"))\n",
    "for i in range(n):\n",
    "    name=input(\"Enter Name: \")\n",
    "    score=float(\"Enter Score: \")\n",
    "    list1.append([name,score])\n",
    "\n",
    "for i in list1:\n",
    "    list2.append(list1[])"
   ]
  },
  {
   "cell_type": "code",
   "execution_count": null,
   "id": "168bc752",
   "metadata": {},
   "outputs": [],
   "source": [
    "tup=(12)\n",
    "print(type(tup))"
   ]
  },
  {
   "cell_type": "code",
   "execution_count": 3,
   "id": "bd9d2ce2",
   "metadata": {},
   "outputs": [
    {
     "name": "stdout",
     "output_type": "stream",
     "text": [
      "hello\n",
      "World\n"
     ]
    }
   ],
   "source": [
    "if True:\n",
    "    print(\"hello\")\n",
    "if 1:\n",
    "    print(\"World\")"
   ]
  },
  {
   "cell_type": "code",
   "execution_count": null,
   "id": "2c2079f3",
   "metadata": {},
   "outputs": [],
   "source": []
  }
 ],
 "metadata": {
  "kernelspec": {
   "display_name": "Python 3 (ipykernel)",
   "language": "python",
   "name": "python3"
  },
  "language_info": {
   "codemirror_mode": {
    "name": "ipython",
    "version": 3
   },
   "file_extension": ".py",
   "mimetype": "text/x-python",
   "name": "python",
   "nbconvert_exporter": "python",
   "pygments_lexer": "ipython3",
   "version": "3.9.12"
  }
 },
 "nbformat": 4,
 "nbformat_minor": 5
}
